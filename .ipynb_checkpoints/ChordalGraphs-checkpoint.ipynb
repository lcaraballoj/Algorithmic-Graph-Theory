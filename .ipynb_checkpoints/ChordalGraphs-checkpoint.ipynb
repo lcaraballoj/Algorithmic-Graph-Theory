{
 "cells": [
  {
   "cell_type": "code",
   "execution_count": 2,
   "id": "25b922a1-1c45-4537-8cc8-b164aa59d47b",
   "metadata": {},
   "outputs": [
    {
     "name": "stderr",
     "output_type": "stream",
     "text": [
      "/Library/Frameworks/Python.framework/Versions/3.9/lib/python3.9/site-packages/sklearn/utils/multiclass.py:14: DeprecationWarning: Please use `spmatrix` from the `scipy.sparse` namespace, the `scipy.sparse.base` namespace is deprecated.\n",
      "  from scipy.sparse.base import spmatrix\n",
      "/Library/Frameworks/Python.framework/Versions/3.9/lib/python3.9/site-packages/sklearn/utils/optimize.py:18: DeprecationWarning: Please use `line_search_wolfe2` from the `scipy.optimize` namespace, the `scipy.optimize.linesearch` namespace is deprecated.\n",
      "  from scipy.optimize.linesearch import line_search_wolfe2, line_search_wolfe1\n",
      "/Library/Frameworks/Python.framework/Versions/3.9/lib/python3.9/site-packages/sklearn/utils/optimize.py:18: DeprecationWarning: Please use `line_search_wolfe1` from the `scipy.optimize` namespace, the `scipy.optimize.linesearch` namespace is deprecated.\n",
      "  from scipy.optimize.linesearch import line_search_wolfe2, line_search_wolfe1\n"
     ]
    },
    {
     "name": "stdout",
     "output_type": "stream",
     "text": [
      " No module named 'igraph'. If you need to use hypernetx.algorithms.hypergraph_modularity, please install additional packages by running the following command: pip install .['all']\n"
     ]
    }
   ],
   "source": [
    "import pandas as pd\n",
    "import matplotlib as mpl\n",
    "import matplotlib.pyplot as plt\n",
    "import networkx as nx\n",
    "import hypernetx as hnx\n",
    "import pydot\n",
    "from networkx.drawing.nx_pydot import graphviz_layout\n",
    "from cycler import cycler"
   ]
  },
  {
   "cell_type": "markdown",
   "id": "b1cf43d5-b037-4e67-b33c-c9e10d583aec",
   "metadata": {},
   "source": [
    "# Chordal Graphs\n",
    "\n",
    "Recall that a **chordal graph** is a graph is a graph where every cycle of 4 or more has a **chord**, an edge that joins two vertices and is not itself an edge of the cycle.\n",
    "\n",
    "Chordal graphs were studied in 1961 by Dirac who called them *rigid circuit graphs*. Over the years chordal graphs have been well studied and are one of the most important and intersting family of graphs because of their charactersitic and properties. Many alogirhtmic problems that are NP-complete can be completed in polynomial time for chordal graphs making them extremely important and desirable from an algorithmic graph theory stand point.\n",
    "\n",
    "There are also many applications of chordal graphs from databases to computational biology and we will explore some of these applications throughout this section. "
   ]
  },
  {
   "cell_type": "markdown",
   "id": "ea31e11c-1137-4fa2-899f-201c27c945af",
   "metadata": {},
   "source": [
    "# Chordal Graph Characteristics\n",
    "\n",
    "## Interval Graphs\n",
    "A **interval graph** is an  <a href=\"IntroToGraphTheory.ipynb\">intersection graph</a> for a family of intervals on the real line. \n",
    "\n",
    "***Theorem: Every interval graph is a chordal.***\n",
    "\n",
    "**Proof:** We will use proof by contradiction by assuming that our interval graph is not chordal. Let $\\mathcal{I}$ be a family of intervals. Let $v_j$ be the vertex that corresponds with the interval $I_j$. If our interval graph is not chordal then there exists a cycle of length 4 or more such that there does not exist a chord. Let our cycle with no chord be $\\{v_0, v_1, \\dots, v_k = v_0\\}$ where $k \\geq 4$. Recall that for an edge to connect two distinct vertices the corresponding intervals must intersect, that is for $v_{j}, v_{j+1}$, $I_j \\cap I_{j+1} \\neq \\emptyset$. In order for us to not have a chord it must be true that $I_j \\cap I_{j+2} = \\emptyset$ otherwise there would exist an edge $\\{v_j, v_{j+1}\\}$ contradicting the fact that our cycle is chord less. \n",
    "\t\n",
    "Let $p_j \\in I_{j-1} \\cap I_{j}$. Observe that each $p_j$ must be unique since nonconsecutive intervals have an empty intersection. We will now proceed by inducting over $p_j$. Without loss of generality let it be true that $p_j < p_{j+1}$. We want to show that if $p_j < p_{j+1}$ then $p_{j+1} < p_{(j+1)+1} = p_{j+2}$. Observe that if $p_{j+2} < p_{j+1}$ then $(p_{j+2}, p_{j+1}) \\subseteq I_{j+3}$ and $(p_{j}, p_{j+1}) \\subseteq I_{j+1}$ which contradicts that fact that nonconsecutive intervals do not intersect. So it must be true that $p_{j+1} < p_{j+2}$. It then follows by induction that $p_0 < p_1 < p_2 < \\dots < p_{k-1}$. Note that this means that it is impossible for $I_0$ and $I_{k-1}$ to intersect which contradicts the fact that $\\{v_0, v_{k-1}\\}$ is an edge. In other words it contradicts the fact that we have a cycle. (QED)\n",
    "\n",
    "Below is a family of intervals and its interval graph."
   ]
  },
  {
   "cell_type": "code",
   "execution_count": null,
   "id": "8645fc98-d152-4e6d-b969-3b2541e0ebb3",
   "metadata": {},
   "outputs": [],
   "source": [
    "# Family of intervals\n",
    "\n",
    "intervals = [(0.8, 2.4), (1.8, 3), (0.5, 1.5), (2.5, 3), (1, 2), (2.6, 2.8)]\n",
    "\n",
    "num_intervals = len(intervals)\n",
    "viridis = ['Red', 'Orange', 'Olive', 'Green', 'Blue', 'Purple']\n",
    "\n",
    "fig, ax = plt.subplots()\n",
    "for idx, (min_int, max_int) in enumerate(intervals):\n",
    "  ax.hlines(y=idx, xmin=min_int, xmax=max_int, colors=viridis[idx], label=idx, lw=4)\n",
    "ax.legend(loc='upper left')\n",
    "plt.yticks([], [])\n",
    "\n",
    "plt.savefig('intervalFamily.png')\n"
   ]
  },
  {
   "cell_type": "code",
   "execution_count": null,
   "id": "38cd63d0-24b2-46c2-bf31-496151e486f7",
   "metadata": {},
   "outputs": [],
   "source": [
    "# Interval graph for the family of intervals above\n",
    "\n",
    "edges = [[0, 1], [0, 2], [0, 4], [1, 3], [1, 4], [1, 5], [2, 4], [3, 5]] # Where the edges are (i.e. (v_1, v_2))\n",
    "G = nx.Graph() # Generate an empty graph \n",
    "#G.add_edges_from(edges) # Add edges to our graph \n",
    "\n",
    "G.add_node(0, nodetype='tab:red', level=0)\n",
    "G.add_node(1, nodetype='tab:orange', level=2)\n",
    "G.add_node(2, nodetype='tab:olive', level=0)\n",
    "G.add_node(3, nodetype='tab:green', level=2)\n",
    "G.add_node(4, nodetype='tab:blue', level=1)\n",
    "G.add_node(5, nodetype='tab:purple', level=3)\n",
    "\n",
    "\n",
    "G.add_edges_from(edges) # Add edges to our graph \n",
    "pos = nx.multipartite_layout(G, subset_key=\"level\") # Position layout of G\n",
    "\n",
    "colors = [u[1] for u in G.nodes(data=\"nodetype\")]\n",
    "\n",
    "# Draw the graph\n",
    "nx.draw(\n",
    "    G, pos, edge_color='black', width=2, linewidths=1,\n",
    "    node_size=2500, font_size = 36, node_color=colors, alpha=1,\n",
    "    labels={node: node for node in G.nodes()} \n",
    ")\n",
    "\n",
    "\n",
    "\n",
    "plt.savefig('intervalFamilyIntersectionGraph.png')"
   ]
  },
  {
   "cell_type": "markdown",
   "id": "6ee0048d-4905-4cff-ae31-1dda9076bb42",
   "metadata": {},
   "source": [
    "## Minimal Seperators\n",
    "\n"
   ]
  },
  {
   "cell_type": "markdown",
   "id": "b10cc2ce-070c-4aa8-9cae-97bd43f2c459",
   "metadata": {},
   "source": [
    "## Trees\n",
    "\n",
    "Recall that a tree is a type of undirected graph where two vertices are connected by exactly one path. Like subgraphs we can have subtrees and we can have look at intersections of subtrees. This leads to an interesting characterization of chordal graphs.\n",
    "\n",
    "**Theorem:** The intersection graph of a family of subtrees is chordal.\n",
    "\n",
    "**Proof:** "
   ]
  },
  {
   "cell_type": "code",
   "execution_count": null,
   "id": "889467d1-331b-4dc0-963b-71d8e94b7d01",
   "metadata": {},
   "outputs": [],
   "source": [
    "edges = [[0, 1], [0, 2], [0, 3], [1, 4], [1, 5], [3, 6], [3, 7]]\n",
    "\n",
    "T = nx.Graph()\n",
    "T.add_edges_from(edges)\n",
    "\n",
    "pos = graphviz_layout(T, prog=\"dot\")\n",
    "nx.draw(T, pos, with_labels=True)\n",
    "plt.show()"
   ]
  },
  {
   "cell_type": "markdown",
   "id": "ef285d05-d075-40e9-8ff6-af95404d8d85",
   "metadata": {},
   "source": [
    "# Chordal Graphs and Databases\n",
    "\n",
    "Chordal graphs have a heavy application in databases. As we saw earlier there are ways to define a hypergraph as a chordal graph. This is an important fact that is often utilized in database theory because if we are able to represent a database scheme as a hypergraph, more specifically an acyclic hypergraph, we are able to use characteristics of chordal graphs in order to query through our data. Below is an example of a database scheme and its hypergraph representation. \n",
    "\n",
    "<img src=\"Diagrams/dataScheme.png\">"
   ]
  },
  {
   "cell_type": "code",
   "execution_count": null,
   "id": "41820982-18a7-4e62-b786-dcd991da3c71",
   "metadata": {},
   "outputs": [],
   "source": [
    "# Hypergraph for the above data scheme\n",
    "\n",
    "scenes = {\n",
    "    \"orders\": ('order_id', 'customer_id', 'status', 'created_at'),\n",
    "    \"orderItems\": ('order_id', 'product_id', 'quantity'),\n",
    "    \"customer\": ('customer_id', 'first_name', 'last_name', 'email'),\n",
    "    \"products\": ('product_id', 'name', 'price', 'status')\n",
    "}\n",
    "\n",
    "H = hnx.Hypergraph(scenes)\n",
    "\n",
    "\n",
    "\n",
    "kwargs = {'layout_kwargs': {'seed': 36}, 'with_node_counts': False}\n",
    "\n",
    "hnx.drawing.draw(H,\n",
    "    node_labels_kwargs={\n",
    "        'fontsize': 10\n",
    "    },\n",
    "    edge_labels_kwargs={\n",
    "        'fontsize': 16\n",
    "    },\n",
    "    edges_kwargs={\n",
    "        'linewidths': 2\n",
    "    },\n",
    "    **kwargs\n",
    ")\n",
    "\n",
    "\n",
    "\n",
    "#plt.savefig('hypergraphDataScheme.png')"
   ]
  },
  {
   "cell_type": "code",
   "execution_count": null,
   "id": "0189c720-61af-4852-be4b-676c4f89382e",
   "metadata": {},
   "outputs": [],
   "source": []
  },
  {
   "cell_type": "code",
   "execution_count": null,
   "id": "ec15055d-c004-4440-8d27-5013b99a939d",
   "metadata": {},
   "outputs": [],
   "source": [
    "scenes = {\n",
    "    1: ('$v_1$', '$v_4$'),\n",
    "    2: ('$v_1$', '$v_2$', '$v_5$', '$v_6$'),\n",
    "    3: ('$v_2$', '$v_3$'),\n",
    "    4: ('$v_2$', '$v_5$', '$v_6$'),\n",
    "    5: ('$v_7$', '$v_8$')\n",
    "}\n",
    "\n",
    "H = hnx.Hypergraph(scenes)\n",
    "\n",
    "\n",
    "\n",
    "kwargs = {'layout_kwargs': {'seed': 24}, 'with_node_counts': False}\n",
    "\n",
    "hnx.drawing.draw(H,\n",
    "    node_labels_kwargs={\n",
    "        'fontsize': 20\n",
    "    },\n",
    "    edge_labels_kwargs={\n",
    "        'fontsize': 24\n",
    "    },\n",
    "    edges_kwargs={\n",
    "        'linewidths': 2\n",
    "    },\n",
    "    **kwargs\n",
    ")\n",
    "\n",
    "#plt.savefig(\"hypergraph_5.png\")\n"
   ]
  },
  {
   "cell_type": "code",
   "execution_count": null,
   "id": "f2bd7599-2f16-4e88-9379-b54d384960ee",
   "metadata": {},
   "outputs": [],
   "source": []
  }
 ],
 "metadata": {
  "kernelspec": {
   "display_name": "Python 3 (ipykernel)",
   "language": "python",
   "name": "python3"
  },
  "language_info": {
   "codemirror_mode": {
    "name": "ipython",
    "version": 3
   },
   "file_extension": ".py",
   "mimetype": "text/x-python",
   "name": "python",
   "nbconvert_exporter": "python",
   "pygments_lexer": "ipython3",
   "version": "3.9.6"
  }
 },
 "nbformat": 4,
 "nbformat_minor": 5
}
